{
 "cells": [
  {
   "cell_type": "code",
   "execution_count": 2,
   "id": "1f05d27f",
   "metadata": {},
   "outputs": [],
   "source": [
    "import pandas as pd\n",
    "import numpy as np\n",
    "import matplotlib.pyplot as plt\n",
    "import seaborn as sns\n",
    "from pandas import DataFrame"
   ]
  },
  {
   "cell_type": "code",
   "execution_count": 7,
   "id": "e131ad9b",
   "metadata": {},
   "outputs": [],
   "source": [
    "#134행짜리 도로별 평균속도 데이터 불러와버리기!\n",
    "df=pd.read_csv('도로별_평균속도_134_치환작업완료.csv', encoding = 'cp949') #인코딩 꺠져서 추가했어요"
   ]
  },
  {
   "cell_type": "code",
   "execution_count": 12,
   "id": "a7cafeea",
   "metadata": {
    "scrolled": false
   },
   "outputs": [],
   "source": [
    "#df"
   ]
  },
  {
   "cell_type": "code",
   "execution_count": 13,
   "id": "35cf2fb7",
   "metadata": {
    "scrolled": true
   },
   "outputs": [],
   "source": [
    "# 상하행데이터 분류\n",
    "df_up = df.loc[df['방향']=='상행',]   # 상행만\n",
    "df_down = df.loc[df['방향']=='하행',]  # 하행만"
   ]
  },
  {
   "cell_type": "code",
   "execution_count": 14,
   "id": "f4874c8a",
   "metadata": {},
   "outputs": [],
   "source": [
    "# 상행과 하행 그래프 인덱스 초기화\n",
    "df_up.reset_index(drop=True,inplace=True)\n",
    "df_down.reset_index(drop=True,inplace=True)"
   ]
  },
  {
   "cell_type": "code",
   "execution_count": 15,
   "id": "7af03762",
   "metadata": {},
   "outputs": [],
   "source": [
    "# 속도비율 데이터용 상행데이터 복사 \n",
    "df_ratio = pd.DataFrame.copy(df_up)\n",
    "\n",
    "#속도비율 데이터 만들기\n",
    "for j in range(df_up.shape[0]):\n",
    "    for i in range(24):\n",
    "        if df_up.iloc[j,i+6] > df_down.iloc[j,i+6]:\n",
    "            up,down = df_up.iloc[j,i+6],df_down.iloc[j,i+6]\n",
    "        else:\n",
    "            down,up = df_up.iloc[j,i+6],df_down.iloc[j,i+6]\n",
    "        df_ratio.iloc[j,i+6] = up/down"
   ]
  },
  {
   "cell_type": "code",
   "execution_count": 16,
   "id": "aae6782f",
   "metadata": {
    "scrolled": true
   },
   "outputs": [
    {
     "name": "stderr",
     "output_type": "stream",
     "text": [
      "<ipython-input-16-7d478bc5c6ff>:2: SettingWithCopyWarning: \n",
      "A value is trying to be set on a copy of a slice from a DataFrame.\n",
      "Try using .loc[row_indexer,col_indexer] = value instead\n",
      "\n",
      "See the caveats in the documentation: https://pandas.pydata.org/pandas-docs/stable/user_guide/indexing.html#returning-a-view-versus-a-copy\n",
      "  df_up['상행-출근시간대'] = (df_up['07시']+df_up['08시']+df_up['09시']+df_up['10시'])/4\n",
      "<ipython-input-16-7d478bc5c6ff>:3: SettingWithCopyWarning: \n",
      "A value is trying to be set on a copy of a slice from a DataFrame.\n",
      "Try using .loc[row_indexer,col_indexer] = value instead\n",
      "\n",
      "See the caveats in the documentation: https://pandas.pydata.org/pandas-docs/stable/user_guide/indexing.html#returning-a-view-versus-a-copy\n",
      "  df_up['상행-퇴근시간대'] = (df_up['17시']+df_up['18시']+df_up['19시']+df_up['20시'])/4\n",
      "<ipython-input-16-7d478bc5c6ff>:4: SettingWithCopyWarning: \n",
      "A value is trying to be set on a copy of a slice from a DataFrame.\n",
      "Try using .loc[row_indexer,col_indexer] = value instead\n",
      "\n",
      "See the caveats in the documentation: https://pandas.pydata.org/pandas-docs/stable/user_guide/indexing.html#returning-a-view-versus-a-copy\n",
      "  df_down['하행-출근시간대'] = (df_down['07시']+df_down['08시']+df_down['09시']+df_down['10시'])/4\n",
      "<ipython-input-16-7d478bc5c6ff>:5: SettingWithCopyWarning: \n",
      "A value is trying to be set on a copy of a slice from a DataFrame.\n",
      "Try using .loc[row_indexer,col_indexer] = value instead\n",
      "\n",
      "See the caveats in the documentation: https://pandas.pydata.org/pandas-docs/stable/user_guide/indexing.html#returning-a-view-versus-a-copy\n",
      "  df_down['하행-퇴근시간대'] = (df_down['17시']+df_down['18시']+df_down['19시']+df_down['20시'])/4\n"
     ]
    }
   ],
   "source": [
    "# 상행 하행 비율 데이터에 출퇴근 시간대 평균 컬럼 추가\n",
    "df_up['상행-출근시간대'] = (df_up['07시']+df_up['08시']+df_up['09시']+df_up['10시'])/4\n",
    "df_up['상행-퇴근시간대'] = (df_up['17시']+df_up['18시']+df_up['19시']+df_up['20시'])/4\n",
    "df_down['하행-출근시간대'] = (df_down['07시']+df_down['08시']+df_down['09시']+df_down['10시'])/4\n",
    "df_down['하행-퇴근시간대'] = (df_down['17시']+df_down['18시']+df_down['19시']+df_down['20시'])/4\n",
    "df_ratio['출근시간대'] = (df_ratio['07시']+df_ratio['08시']+df_ratio['09시']+df_ratio['10시'])/4\n",
    "df_ratio['퇴근시간대'] = (df_ratio['17시']+df_ratio['18시']+df_ratio['19시']+df_ratio['20시'])/4"
   ]
  },
  {
   "cell_type": "code",
   "execution_count": 17,
   "id": "f05a6312",
   "metadata": {},
   "outputs": [],
   "source": [
    "# 상행과 하행 그래프 인덱스 초기화\n",
    "df_up.reset_index(drop=True,inplace=True)\n",
    "df_down.reset_index(drop=True,inplace=True)"
   ]
  },
  {
   "cell_type": "code",
   "execution_count": 18,
   "id": "bb38deeb",
   "metadata": {},
   "outputs": [],
   "source": [
    "# 상행 속도 데이터에 하행의 출퇴근시간 평균 속도 추가\n",
    "df_down2 = df_down[['하행-출근시간대','하행-퇴근시간대']]\n",
    "df_updown = pd.concat([df_up, df_down2], axis=1)"
   ]
  },
  {
   "cell_type": "code",
   "execution_count": 19,
   "id": "02614dab",
   "metadata": {},
   "outputs": [],
   "source": [
    "# 위의 데이터 프레임에 출퇴근시간의 속도비 추가\n",
    "df_ratio2 = df_ratio[['출근시간대','퇴근시간대']]\n",
    "df_udr = pd.concat([df_updown, df_ratio2], axis=1)"
   ]
  },
  {
   "cell_type": "code",
   "execution_count": 20,
   "id": "d0e17cfe",
   "metadata": {
    "scrolled": false
   },
   "outputs": [
    {
     "data": {
      "text/plain": [
       "(67, 36)"
      ]
     },
     "execution_count": 20,
     "metadata": {},
     "output_type": "execute_result"
    }
   ],
   "source": [
    "#데이터 행 개수 확인\n",
    "df_udr.shape"
   ]
  },
  {
   "cell_type": "code",
   "execution_count": 21,
   "id": "06a1fc40",
   "metadata": {},
   "outputs": [],
   "source": [
    "# 도로 정보와 혼잡시간대 평균속도와 속도비만 선택\n",
    "df_udr = df_udr[['경로','도로명','시점명','종점명','상행-출근시간대','하행-출근시간대','출근시간대','상행-퇴근시간대','하행-퇴근시간대','퇴근시간대']]"
   ]
  },
  {
   "cell_type": "code",
   "execution_count": 22,
   "id": "12186255",
   "metadata": {},
   "outputs": [
    {
     "data": {
      "text/html": [
       "<div>\n",
       "<style scoped>\n",
       "    .dataframe tbody tr th:only-of-type {\n",
       "        vertical-align: middle;\n",
       "    }\n",
       "\n",
       "    .dataframe tbody tr th {\n",
       "        vertical-align: top;\n",
       "    }\n",
       "\n",
       "    .dataframe thead th {\n",
       "        text-align: right;\n",
       "    }\n",
       "</style>\n",
       "<table border=\"1\" class=\"dataframe\">\n",
       "  <thead>\n",
       "    <tr style=\"text-align: right;\">\n",
       "      <th></th>\n",
       "      <th>경로</th>\n",
       "      <th>도로명</th>\n",
       "      <th>시점명</th>\n",
       "      <th>종점명</th>\n",
       "      <th>상행-출근시간대</th>\n",
       "      <th>하행-출근시간대</th>\n",
       "      <th>출근시간대</th>\n",
       "      <th>상행-퇴근시간대</th>\n",
       "      <th>하행-퇴근시간대</th>\n",
       "      <th>퇴근시간대</th>\n",
       "    </tr>\n",
       "  </thead>\n",
       "  <tbody>\n",
       "    <tr>\n",
       "      <th>0</th>\n",
       "      <td>홍지문터널북측-&gt;정릉터널동측(내부순환로)</td>\n",
       "      <td>내부순환로</td>\n",
       "      <td>홍지문터널북측</td>\n",
       "      <td>정릉터널동측(내부순환로)</td>\n",
       "      <td>54.883919</td>\n",
       "      <td>52.674378</td>\n",
       "      <td>1.061705</td>\n",
       "      <td>45.124918</td>\n",
       "      <td>48.320998</td>\n",
       "      <td>1.199951</td>\n",
       "    </tr>\n",
       "    <tr>\n",
       "      <th>1</th>\n",
       "      <td>동작대교북단-&gt;한강시민공원이촌지구</td>\n",
       "      <td>강변북로</td>\n",
       "      <td>동작대교북단</td>\n",
       "      <td>한강시민공원이촌지구</td>\n",
       "      <td>30.748396</td>\n",
       "      <td>20.829356</td>\n",
       "      <td>1.472671</td>\n",
       "      <td>82.559154</td>\n",
       "      <td>75.234843</td>\n",
       "      <td>1.099323</td>\n",
       "    </tr>\n",
       "    <tr>\n",
       "      <th>2</th>\n",
       "      <td>반포대교북단-&gt;동작대교북단</td>\n",
       "      <td>강변북로</td>\n",
       "      <td>반포대교북단</td>\n",
       "      <td>동작대교북단</td>\n",
       "      <td>44.363714</td>\n",
       "      <td>49.035813</td>\n",
       "      <td>1.212258</td>\n",
       "      <td>39.881590</td>\n",
       "      <td>23.696446</td>\n",
       "      <td>1.685426</td>\n",
       "    </tr>\n",
       "    <tr>\n",
       "      <th>3</th>\n",
       "      <td>한강시민공원이촌지구-&gt;한강대교북단</td>\n",
       "      <td>강변북로</td>\n",
       "      <td>한강시민공원이촌지구</td>\n",
       "      <td>한강대교북단</td>\n",
       "      <td>46.958249</td>\n",
       "      <td>33.633898</td>\n",
       "      <td>1.386420</td>\n",
       "      <td>30.475675</td>\n",
       "      <td>23.244398</td>\n",
       "      <td>1.367952</td>\n",
       "    </tr>\n",
       "    <tr>\n",
       "      <th>4</th>\n",
       "      <td>한강대교북단-&gt;이촌대림아파트(강변북로)</td>\n",
       "      <td>강변북로</td>\n",
       "      <td>한강대교북단</td>\n",
       "      <td>이촌대림아파트(강변북로)</td>\n",
       "      <td>63.422304</td>\n",
       "      <td>32.312385</td>\n",
       "      <td>2.026543</td>\n",
       "      <td>20.389859</td>\n",
       "      <td>36.199133</td>\n",
       "      <td>2.239400</td>\n",
       "    </tr>\n",
       "    <tr>\n",
       "      <th>...</th>\n",
       "      <td>...</td>\n",
       "      <td>...</td>\n",
       "      <td>...</td>\n",
       "      <td>...</td>\n",
       "      <td>...</td>\n",
       "      <td>...</td>\n",
       "      <td>...</td>\n",
       "      <td>...</td>\n",
       "      <td>...</td>\n",
       "      <td>...</td>\n",
       "    </tr>\n",
       "    <tr>\n",
       "      <th>62</th>\n",
       "      <td>천호대교남단-&gt;올림픽대교남단</td>\n",
       "      <td>올림픽대로</td>\n",
       "      <td>천호대교남단</td>\n",
       "      <td>올림픽대교남단</td>\n",
       "      <td>44.263984</td>\n",
       "      <td>73.781024</td>\n",
       "      <td>1.806796</td>\n",
       "      <td>74.311192</td>\n",
       "      <td>52.286684</td>\n",
       "      <td>1.456256</td>\n",
       "    </tr>\n",
       "    <tr>\n",
       "      <th>63</th>\n",
       "      <td>강일IC동측(올림픽대로)-&gt;강일IC서측(올림픽대로)</td>\n",
       "      <td>올림픽대로</td>\n",
       "      <td>강일IC동측(올림픽대로)</td>\n",
       "      <td>강일IC서측(올림픽대로)</td>\n",
       "      <td>49.358325</td>\n",
       "      <td>75.679331</td>\n",
       "      <td>1.626749</td>\n",
       "      <td>71.269445</td>\n",
       "      <td>51.731714</td>\n",
       "      <td>1.411880</td>\n",
       "    </tr>\n",
       "    <tr>\n",
       "      <th>64</th>\n",
       "      <td>올림픽대로 서울강동-경기하남-&gt;강일IC동측(올림픽대로)</td>\n",
       "      <td>올림픽대로</td>\n",
       "      <td>올림픽대로 서울강동-경기하남</td>\n",
       "      <td>강일IC동측(올림픽대로)</td>\n",
       "      <td>49.390498</td>\n",
       "      <td>75.683621</td>\n",
       "      <td>1.625861</td>\n",
       "      <td>71.262389</td>\n",
       "      <td>51.782287</td>\n",
       "      <td>1.410385</td>\n",
       "    </tr>\n",
       "    <tr>\n",
       "      <th>65</th>\n",
       "      <td>달래네고개-&gt;판교JC 남측(경부선 본선)</td>\n",
       "      <td>경부고속도로</td>\n",
       "      <td>달래네고개</td>\n",
       "      <td>판교JC 남측(경부선 본선)</td>\n",
       "      <td>93.925067</td>\n",
       "      <td>53.688549</td>\n",
       "      <td>1.928474</td>\n",
       "      <td>90.976662</td>\n",
       "      <td>67.058513</td>\n",
       "      <td>1.360396</td>\n",
       "    </tr>\n",
       "    <tr>\n",
       "      <th>66</th>\n",
       "      <td>가양대교북단IC-&gt;강변북로고양시계</td>\n",
       "      <td>자유로</td>\n",
       "      <td>가양대교북단IC</td>\n",
       "      <td>강변북로고양시계</td>\n",
       "      <td>36.666873</td>\n",
       "      <td>79.567113</td>\n",
       "      <td>2.281723</td>\n",
       "      <td>60.427281</td>\n",
       "      <td>55.925792</td>\n",
       "      <td>1.193259</td>\n",
       "    </tr>\n",
       "  </tbody>\n",
       "</table>\n",
       "<p>67 rows × 10 columns</p>\n",
       "</div>"
      ],
      "text/plain": [
       "                                경로     도로명              시점명              종점명  \\\n",
       "0           홍지문터널북측->정릉터널동측(내부순환로)   내부순환로          홍지문터널북측    정릉터널동측(내부순환로)   \n",
       "1               동작대교북단->한강시민공원이촌지구    강변북로           동작대교북단       한강시민공원이촌지구   \n",
       "2                   반포대교북단->동작대교북단    강변북로           반포대교북단           동작대교북단   \n",
       "3               한강시민공원이촌지구->한강대교북단    강변북로       한강시민공원이촌지구           한강대교북단   \n",
       "4            한강대교북단->이촌대림아파트(강변북로)    강변북로           한강대교북단    이촌대림아파트(강변북로)   \n",
       "..                             ...     ...              ...              ...   \n",
       "62                 천호대교남단->올림픽대교남단   올림픽대로           천호대교남단          올림픽대교남단   \n",
       "63    강일IC동측(올림픽대로)->강일IC서측(올림픽대로)   올림픽대로    강일IC동측(올림픽대로)    강일IC서측(올림픽대로)   \n",
       "64  올림픽대로 서울강동-경기하남->강일IC동측(올림픽대로)   올림픽대로  올림픽대로 서울강동-경기하남    강일IC동측(올림픽대로)   \n",
       "65          달래네고개->판교JC 남측(경부선 본선)  경부고속도로            달래네고개  판교JC 남측(경부선 본선)   \n",
       "66              가양대교북단IC->강변북로고양시계     자유로         가양대교북단IC         강변북로고양시계   \n",
       "\n",
       "     상행-출근시간대   하행-출근시간대     출근시간대   상행-퇴근시간대   하행-퇴근시간대     퇴근시간대  \n",
       "0   54.883919  52.674378  1.061705  45.124918  48.320998  1.199951  \n",
       "1   30.748396  20.829356  1.472671  82.559154  75.234843  1.099323  \n",
       "2   44.363714  49.035813  1.212258  39.881590  23.696446  1.685426  \n",
       "3   46.958249  33.633898  1.386420  30.475675  23.244398  1.367952  \n",
       "4   63.422304  32.312385  2.026543  20.389859  36.199133  2.239400  \n",
       "..        ...        ...       ...        ...        ...       ...  \n",
       "62  44.263984  73.781024  1.806796  74.311192  52.286684  1.456256  \n",
       "63  49.358325  75.679331  1.626749  71.269445  51.731714  1.411880  \n",
       "64  49.390498  75.683621  1.625861  71.262389  51.782287  1.410385  \n",
       "65  93.925067  53.688549  1.928474  90.976662  67.058513  1.360396  \n",
       "66  36.666873  79.567113  2.281723  60.427281  55.925792  1.193259  \n",
       "\n",
       "[67 rows x 10 columns]"
      ]
     },
     "execution_count": 22,
     "metadata": {},
     "output_type": "execute_result"
    }
   ],
   "source": [
    "df_udr"
   ]
  },
  {
   "cell_type": "code",
   "execution_count": 23,
   "id": "e7412f5c",
   "metadata": {},
   "outputs": [],
   "source": [
    "# 출근시간대 상행 or 하행이 시속50km/h 이하이면서 속도비가 2 이상이 구간\n",
    "df_hell = df_udr.loc[(df_udr['상행-출근시간대']<50)|(df_udr['하행-출근시간대']<50),].loc[df_udr['출근시간대']>=2,]"
   ]
  },
  {
   "cell_type": "code",
   "execution_count": 24,
   "id": "b16fc241",
   "metadata": {},
   "outputs": [],
   "source": [
    "# 퇴근시간대 상행 or 하행이 시속50km/h 이하이면서 속도비가 2 이상이 구간\n",
    "df_heaven = df_udr.loc[(df_udr['상행-퇴근시간대']<50)|(df_udr['하행-퇴근시간대']<50),].loc[df_udr['퇴근시간대']>=2,]"
   ]
  },
  {
   "cell_type": "code",
   "execution_count": 25,
   "id": "2dd41bd4",
   "metadata": {},
   "outputs": [
    {
     "name": "stdout",
     "output_type": "stream",
     "text": [
      "출근시간대 : (17, 10)\n",
      "4             한강대교북단->이촌대림아파트(강변북로)\n",
      "11                   잠실대교북단->청담대교북단\n",
      "14                  올림픽대교북단->잠실철교북단\n",
      "15                  천호대교북단->올림픽대교북단\n",
      "30             양화대교북단->망원동진출입(강변북로)\n",
      "31    망원동진출입(강변북로)->내부순환로연결램프(강변북로)\n",
      "32               성산대교북단->난지IC(강변북로)\n",
      "35                     가양대교남단->가양IC\n",
      "36               가양IC->방화대교남단(88JC)\n",
      "37      방화대교남단(88JC)->개화동로진입(올림픽대로)\n",
      "53                   청담대교북단->청담대교남단\n",
      "56              수서IC(동부간선도로)->복정교차로\n",
      "57                  잠실대교남단->종합운동장JC\n",
      "58                    종합운동장JC->청담IC\n",
      "59                청담IC->올림픽대로동부간선JC\n",
      "61                  올림픽대교남단->잠실철교남단\n",
      "66               가양대교북단IC->강변북로고양시계\n",
      "Name: 경로, dtype: object\n",
      "----------------------------------------------------------\n",
      "퇴근시간대 : (17, 10)\n",
      "4           한강대교북단->이촌대림아파트(강변북로)\n",
      "5            원효로진출입(강변북로)->마포대교북단\n",
      "12                 잠실철교북단->잠실대교북단\n",
      "14                올림픽대교북단->잠실철교북단\n",
      "15                천호대교북단->올림픽대교북단\n",
      "23      홍제램프(내부순환로)->홍은램프(내부순환도로)\n",
      "24    홍은램프(내부순환도로)->홍은램프진입(내부순환로)\n",
      "26              마포대교북단->강변북로마포-서강\n",
      "27              강변북로마포-서강->서강대교북단\n",
      "28            상수진출입(강변북로)->양화대교북단\n",
      "29            서강대교북단->상수진출입(강변북로)\n",
      "39                 양화대교남단->성산대교남단\n",
      "42                 동작대교JC->여의상류IC\n",
      "43                 여의상류IC->여의하류IC\n",
      "53                 청담대교북단->청담대교남단\n",
      "54                 영동대교남단->성수대교남단\n",
      "56            수서IC(동부간선도로)->복정교차로\n",
      "Name: 경로, dtype: object\n"
     ]
    }
   ],
   "source": [
    "# 선정된 구간 개수와 경로 도출\n",
    "print('출근시간대 :',df_hell.shape)\n",
    "print(df_hell['경로'])\n",
    "print('----------------------------------------------------------')\n",
    "print('퇴근시간대 :',df_heaven.shape)\n",
    "print(df_heaven['경로'])"
   ]
  },
  {
   "cell_type": "code",
   "execution_count": null,
   "id": "f1cf37e9",
   "metadata": {},
   "outputs": [],
   "source": []
  }
 ],
 "metadata": {
  "kernelspec": {
   "display_name": "Python 3",
   "language": "python",
   "name": "python3"
  },
  "language_info": {
   "codemirror_mode": {
    "name": "ipython",
    "version": 3
   },
   "file_extension": ".py",
   "mimetype": "text/x-python",
   "name": "python",
   "nbconvert_exporter": "python",
   "pygments_lexer": "ipython3",
   "version": "3.8.8"
  }
 },
 "nbformat": 4,
 "nbformat_minor": 5
}
